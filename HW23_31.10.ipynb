{
 "cells": [
  {
   "cell_type": "code",
   "execution_count": 9,
   "id": "644ff8c2-5744-4bd9-9b2a-434796e9afd9",
   "metadata": {},
   "outputs": [],
   "source": [
    "import numpy as np"
   ]
  },
  {
   "cell_type": "markdown",
   "id": "d0552436-c165-45f1-89e7-0280f834f456",
   "metadata": {},
   "source": [
    "### Question 1"
   ]
  },
  {
   "cell_type": "code",
   "execution_count": 10,
   "id": "cdfffa2e-1a9f-4e48-b524-8c506c262a30",
   "metadata": {},
   "outputs": [
    {
     "name": "stdout",
     "output_type": "stream",
     "text": [
      "[ 1  2  3  4  5  6  7  8  9 10]\n",
      "[0.5  0.75 1.   1.25 1.5  1.75 2.   2.25 2.5  2.75 3.   3.25 3.5  3.75\n",
      " 4.   4.25 4.5  4.75 5.  ]\n"
     ]
    }
   ],
   "source": [
    "l2 = np.arange(1, 11)\n",
    "print(l2)\n",
    "l2 = np.arange(0.5, 5.0 + 0.1, 0.25)\n",
    "print(l2)"
   ]
  },
  {
   "cell_type": "markdown",
   "id": "f86facf6-fdd9-4a1d-ab92-febee113ebd0",
   "metadata": {},
   "source": [
    "### Question 2"
   ]
  },
  {
   "cell_type": "code",
   "execution_count": 11,
   "id": "1335fe45-ab55-4100-b5ab-ca8249d67713",
   "metadata": {},
   "outputs": [
    {
     "name": "stdout",
     "output_type": "stream",
     "text": [
      "[0 0 0 0 0 0 0 0 0 0]\n",
      "[[0 0 0 0]\n",
      " [0 0 0 0]\n",
      " [0 0 0 0]]\n"
     ]
    }
   ],
   "source": [
    "print(np.zeros(10, dtype=int))\n",
    "print(np.zeros(shape=(3,4), dtype=int)) "
   ]
  },
  {
   "cell_type": "markdown",
   "id": "cd4b79bc-91da-40da-92b0-4881cde209d0",
   "metadata": {},
   "source": [
    "### Question 3"
   ]
  },
  {
   "cell_type": "code",
   "execution_count": 13,
   "id": "34e85da3-5d3f-4ada-b8e9-98b3d34b69d4",
   "metadata": {},
   "outputs": [
    {
     "name": "stdout",
     "output_type": "stream",
     "text": [
      "[ 2  4  7  9 12]\n",
      "[3 5 7 9]\n"
     ]
    }
   ],
   "source": [
    "lin_array = np.linspace(2, 12, 5, dtype=int)\n",
    "print(lin_array)\n",
    "lin_array = np.linspace(3, 9, 4, dtype=int)\n",
    "print(lin_array)"
   ]
  },
  {
   "cell_type": "markdown",
   "id": "dc039fb8-3a9c-4c2c-82a6-fdf9b200f58a",
   "metadata": {},
   "source": [
    "### Question 4"
   ]
  },
  {
   "cell_type": "code",
   "execution_count": 16,
   "id": "513d33a7-46f9-4a2c-a513-7e979a07510e",
   "metadata": {},
   "outputs": [
    {
     "name": "stdout",
     "output_type": "stream",
     "text": [
      "np.random.rand(2, 4):\n",
      " [[0.51874877 0.21951943 0.98060486 0.62995853]\n",
      " [0.65619006 0.87543825 0.18469633 0.58163861]]\n",
      "np.random.randint(10, 21, (3, 3)):\n",
      " [[17 15 18]\n",
      " [18 15 10]\n",
      " [16 12 10]]\n",
      "random_array.reshape(1, 8) [[0.51874877 0.21951943 0.98060486 0.62995853 0.65619006 0.87543825\n",
      "  0.18469633 0.58163861]]\n"
     ]
    }
   ],
   "source": [
    "random_array = np.random.rand(2, 4)\n",
    "print('np.random.rand(2, 4):\\n', random_array)\n",
    "random_int = np.random.randint(10, 21, (3, 3))\n",
    "print('np.random.randint(10, 21, (3, 3)):\\n',random_int)\n",
    "reshaped = random_array.reshape(1, 8)\n",
    "print('random_array.reshape(1, 8)',reshaped)"
   ]
  },
  {
   "cell_type": "markdown",
   "id": "92c019a6-0aef-444e-a4a1-8654c1a7a9f1",
   "metadata": {},
   "source": [
    "‫The new shape should be compatible with the original shape. If an integer, then the result will be a 1-D array of that length. One shape dimension can be -1. In this case, the value is inferred from the length of the array and remaining dimensions.\n",
    "\n",
    "source: https://numpy.org/doc/stable/reference/generated/numpy.reshape.html"
   ]
  },
  {
   "cell_type": "markdown",
   "id": "67c84fba-2e01-4be5-8b59-b3666e6bc31e",
   "metadata": {},
   "source": [
    "### Question 5"
   ]
  },
  {
   "cell_type": "markdown",
   "id": "ccc028eb-1050-4f5e-ab3f-1f6335c95d37",
   "metadata": {},
   "source": [
    "Using the same np.random.seed() we should get the same numbers, every time you run your code. The main use of this is tracability for debugging or when you want consistent results across multiple runs.\n",
    "Or if you want to share code with others or run it on different machines, using a fixed seed ensures everyone sees the same results. "
   ]
  },
  {
   "cell_type": "markdown",
   "id": "c49d7b0d-cd9e-4a9d-8b1d-1147c46f1794",
   "metadata": {},
   "source": [
    "### Question 6"
   ]
  },
  {
   "cell_type": "code",
   "execution_count": 21,
   "id": "9c4fedd7-689c-4e8a-9a95-630f873738cb",
   "metadata": {},
   "outputs": [
    {
     "name": "stdin",
     "output_type": "stream",
     "text": [
      "input 5 more numbers:  100\n",
      "input 4 more numbers:  5\n",
      "input 3 more numbers:  0\n",
      "input 2 more numbers:  -111\n",
      "input 1 more numbers:  -5\n"
     ]
    },
    {
     "name": "stdout",
     "output_type": "stream",
     "text": [
      "max of arr:  100\n",
      "min of arr:  -111\n",
      "shape of arr:  (5,)\n",
      "argmax of arr:  0\n",
      "argmin of arr:  3\n"
     ]
    }
   ],
   "source": [
    "list1 = []\n",
    "for i in range(5):\n",
    "    list1.append(int(input(f\"input {5-i} more numbers: \")));\n",
    "arr1 = np.array(list1);\n",
    "print(\"max of arr: \", arr1.max());\n",
    "print(\"min of arr: \", arr1.min());\n",
    "print(\"shape of arr: \", arr1.shape);\n",
    "print('argmax of arr: ', arr1.argmax());\n",
    "print('argmin of arr: ', arr1.argmin());"
   ]
  },
  {
   "cell_type": "code",
   "execution_count": null,
   "id": "c85dc563-c2e5-4eb1-928e-da37f12bd18d",
   "metadata": {},
   "outputs": [],
   "source": []
  }
 ],
 "metadata": {
  "kernelspec": {
   "display_name": "Python 3 (ipykernel)",
   "language": "python",
   "name": "python3"
  },
  "language_info": {
   "codemirror_mode": {
    "name": "ipython",
    "version": 3
   },
   "file_extension": ".py",
   "mimetype": "text/x-python",
   "name": "python",
   "nbconvert_exporter": "python",
   "pygments_lexer": "ipython3",
   "version": "3.10.12"
  }
 },
 "nbformat": 4,
 "nbformat_minor": 5
}
